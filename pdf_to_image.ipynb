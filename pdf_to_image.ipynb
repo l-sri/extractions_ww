{
 "cells": [
  {
   "cell_type": "code",
   "execution_count": 6,
   "metadata": {},
   "outputs": [],
   "source": [
    "from pdf2image import convert_from_path\n",
    "import os"
   ]
  },
  {
   "cell_type": "code",
   "execution_count": 10,
   "metadata": {},
   "outputs": [
    {
     "name": "stdout",
     "output_type": "stream",
     "text": [
      "Successfully converted PDF to images in data/imagefiles/Markdown_Protocols\n"
     ]
    }
   ],
   "source": [
    "# Input PDF file path\n",
    "input_file = \"data/input/Markdown_Protocols.pdf\"\n",
    "\n",
    "# Input PDF file path\n",
    "output_dir = \"data/imagefiles/Markdown_Protocols\"\n",
    "\n",
    "if not os.path.exists(output_dir):\n",
    "    os.makedirs(output_dir)\n",
    "\n",
    "# Convert the PDF to individual images\n",
    "images = convert_from_path(input_file)\n",
    "\n",
    "# Enumerate and save each image\n",
    "for i, page in enumerate(images):\n",
    "    # Generate unique filenames based on page number\n",
    "    filename = f\"{output_dir}/page_{i+1}.jpg\"\n",
    "    # Save the image with the chosen format (JPG in this case)\n",
    "    page.save(filename, \"JPEG\")\n",
    "\n",
    "print(f\"Successfully converted PDF to images in {output_dir}\")"
   ]
  },
  {
   "cell_type": "code",
   "execution_count": null,
   "metadata": {},
   "outputs": [],
   "source": []
  }
 ],
 "metadata": {
  "kernelspec": {
   "display_name": "venv-moodys",
   "language": "python",
   "name": "python3"
  },
  "language_info": {
   "codemirror_mode": {
    "name": "ipython",
    "version": 3
   },
   "file_extension": ".py",
   "mimetype": "text/x-python",
   "name": "python",
   "nbconvert_exporter": "python",
   "pygments_lexer": "ipython3",
   "version": "3.9.2"
  }
 },
 "nbformat": 4,
 "nbformat_minor": 2
}
