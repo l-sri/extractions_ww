{
 "cells": [
  {
   "cell_type": "code",
   "execution_count": 9,
   "metadata": {},
   "outputs": [],
   "source": [
    "import os\n",
    "import xml.etree.ElementTree as ET\n",
    "import json\n",
    "import re"
   ]
  },
  {
   "cell_type": "code",
   "execution_count": 10,
   "metadata": {},
   "outputs": [],
   "source": [
    "# Set folder path for processing\n",
    "target = \"/mnt/resources/woolworths/raw_data/AustralianSupermarkets.xml\"\n",
    "output_folder = \"data/processed_files/xml_output/\""
   ]
  },
  {
   "cell_type": "code",
   "execution_count": 16,
   "metadata": {},
   "outputs": [],
   "source": [
    "tree = ET.parse(target)\n",
    "root = tree.getroot()"
   ]
  },
  {
   "cell_type": "code",
   "execution_count": 17,
   "metadata": {},
   "outputs": [],
   "source": [
    "name=[]\n",
    "content={}\n",
    "visited=set()\n",
    "\n",
    "def explore(root, name: list, content: dict, visited: set):\n",
    "  if root.tag==\"ProcessGroup\":\n",
    "    name.append(root.attrib[\"Name\"])\n",
    "  for process_group_items in root.findall(\"ProcessGroupItems\"):\n",
    "    for item in process_group_items:\n",
    "      if item.tag==\"ProcessGroup\":\n",
    "        explore(item, name, content, visited)\n",
    "        name.pop()\n",
    "      elif item.tag==\"Process\":\n",
    "        section_id=item.attrib[\"Id\"]\n",
    "        if section_id in visited:\n",
    "          continue\n",
    "        visited.add(section_id)\n",
    "        name.append(item.attrib[\"Name\"])\n",
    "        key=\" --- \".join(name)\n",
    "        group=item.attrib[\"Group\"]\n",
    "        page_content=key\n",
    "        page_content+=f\"\\n\\nName: {item.attrib['Name']}\"\n",
    "        page_content+=f\"\\nObjective: {item.attrib['Objective']}\"\n",
    "        page_content+=f\"\\ID: {section_id}\"\n",
    "        page_content+=f\"\\nGroup: {group}\"\n",
    "        for line in item.iter():\n",
    "          if line.tag==\"Text\" or line.tag==\"Attachment\":\n",
    "            page_content+=\"\\n\"+str(line.text)\n",
    "        content[key]= (section_id, group, page_content)\n",
    "        name.pop()\n",
    "      else:\n",
    "        print(item.tag)\n",
    "\n",
    "\n",
    "explore(root, name, content, visited)"
   ]
  },
  {
   "cell_type": "code",
   "execution_count": 18,
   "metadata": {},
   "outputs": [
    {
     "data": {
      "text/plain": [
       "677"
      ]
     },
     "execution_count": 18,
     "metadata": {},
     "output_type": "execute_result"
    }
   ],
   "source": [
    "len(content)"
   ]
  },
  {
   "cell_type": "code",
   "execution_count": 44,
   "metadata": {},
   "outputs": [
    {
     "name": "stdout",
     "output_type": "stream",
     "text": [
      "Files created: 677\n"
     ]
    }
   ],
   "source": [
    "i=0\n",
    "# d={}\n",
    "for key, value in content.items():\n",
    "    filename = re.sub(r\"[^\\w\\s&0-9]|(\\s+)\", \"_\", key.lower())\n",
    "    filename = re.sub(r\"_+\", \"_\", filename)\n",
    "    filename = re.sub(r\"(_$)\", \"\", filename)\n",
    "    filename = \"se_\"+filename\n",
    "    filepath = os.path.join(output_folder, filename)\n",
    "    \n",
    "    section_id, group, page_content = value\n",
    "    with open(filepath+\".txt\", \"w\") as f:\n",
    "        f.write(page_content)\n",
    "    filename, *mid, section_name = key.split(\" --- \")\n",
    "\n",
    "    \n",
    "    # k=len(key.split(\" --- \"))\n",
    "    # if k==6:\n",
    "    #     print(key)\n",
    "    # d[k]=d.get(k, 0)+1\n",
    "\n",
    "\n",
    "    metadata_dict = {\n",
    "        \"group_name\":\"se\",\n",
    "        \"file_type\":\"section\",\n",
    "        \"section_number\":section_id,\n",
    "        \"group\":group,\n",
    "        \"document_name\":mid[0] if len(mid)>0 else \"\",\n",
    "        \"section_name\":section_name,\n",
    "        \"filename\":filename,\n",
    "        \"chunk_number\":\"0\",\n",
    "    }\n",
    "    with open(filepath+\"_metadata.json\", \"w\") as f:\n",
    "        json.dump(metadata_dict, f)\n",
    "    i+=1\n",
    "\n",
    "print(f\"Files created: {i}\")\n",
    "    "
   ]
  },
  {
   "cell_type": "code",
   "execution_count": 32,
   "metadata": {},
   "outputs": [
    {
     "data": {
      "text/plain": [
       "677"
      ]
     },
     "execution_count": 32,
     "metadata": {},
     "output_type": "execute_result"
    }
   ],
   "source": [
    "len(content)"
   ]
  },
  {
   "cell_type": "code",
   "execution_count": 33,
   "metadata": {},
   "outputs": [
    {
     "name": "stdout",
     "output_type": "stream",
     "text": [
      "2 1\n",
      "3 43\n",
      "4 325\n",
      "5 219\n",
      "6 66\n",
      "7 11\n",
      "8 12\n"
     ]
    }
   ],
   "source": [
    "for k, v in sorted(d.items()):\n",
    "    print(k, v)"
   ]
  },
  {
   "cell_type": "code",
   "execution_count": 20,
   "metadata": {},
   "outputs": [
    {
     "name": "stdout",
     "output_type": "stream",
     "text": [
      "Files created: 7\n"
     ]
    }
   ],
   "source": [
    "processes=[8628,1995,6939,2398,19092,6939,8706,8616]\n",
    "output_folder = \"data/processed_files/extracted_xml/\"\n",
    "\n",
    "\n",
    "i=0\n",
    "# d={}\n",
    "for key, value in content.items():\n",
    "    filename = re.sub(r\"[^\\w\\s&0-9]|(\\s+)\", \"_\", key.lower())\n",
    "    filename = re.sub(r\"_+\", \"_\", filename)\n",
    "    filename = re.sub(r\"(_$)\", \"\", filename)\n",
    "    filename = \"se_\"+filename\n",
    "    filepath = os.path.join(output_folder, filename)\n",
    "    \n",
    "    section_id, group, page_content = value\n",
    "    if int(section_id) in processes:\n",
    "        with open(filepath+\".txt\", \"w\") as f:\n",
    "            f.write(page_content)\n",
    "        filename, *mid, section_name = key.split(\" --- \")\n",
    "\n",
    "        \n",
    "        # k=len(key.split(\" --- \"))\n",
    "        # if k==6:\n",
    "        #     print(key)\n",
    "        # d[k]=d.get(k, 0)+1\n",
    "\n",
    "\n",
    "        metadata_dict = {\n",
    "            \"group_name\":\"se\",\n",
    "            \"file_type\":\"section\",\n",
    "            \"section_number\":section_id,\n",
    "            \"group\":group,\n",
    "            \"document_name\":mid[0] if len(mid)>0 else \"\",\n",
    "            \"section_name\":section_name,\n",
    "            \"filename\":filename,\n",
    "            \"chunk_number\":\"0\",\n",
    "        }\n",
    "        with open(filepath+\"_metadata.json\", \"w\") as f:\n",
    "            json.dump(metadata_dict, f)\n",
    "        i+=1\n",
    "\n",
    "print(f\"Files created: {i}\")"
   ]
  },
  {
   "cell_type": "code",
   "execution_count": 21,
   "metadata": {},
   "outputs": [
    {
     "data": {
      "text/plain": [
       "[1995, 2398, 6939, 6939, 8616, 8628, 8706, 19092]"
      ]
     },
     "execution_count": 21,
     "metadata": {},
     "output_type": "execute_result"
    }
   ],
   "source": [
    "sorted(processes)"
   ]
  },
  {
   "cell_type": "code",
   "execution_count": null,
   "metadata": {},
   "outputs": [],
   "source": []
  }
 ],
 "metadata": {
  "kernelspec": {
   "display_name": ".venv",
   "language": "python",
   "name": "python3"
  },
  "language_info": {
   "codemirror_mode": {
    "name": "ipython",
    "version": 3
   },
   "file_extension": ".py",
   "mimetype": "text/x-python",
   "name": "python",
   "nbconvert_exporter": "python",
   "pygments_lexer": "ipython3",
   "version": "3.11.6"
  }
 },
 "nbformat": 4,
 "nbformat_minor": 2
}
